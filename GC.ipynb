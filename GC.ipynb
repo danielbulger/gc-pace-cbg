{
 "cells": [
  {
   "cell_type": "code",
   "execution_count": 1,
   "metadata": {},
   "outputs": [   
   ],
   "source": [
    "import pandas as pd\n",
    "import numpy as np\n",
    "import matplotlib.pyplot as plt\n",
    "import seaborn as sns\n",
    "\n",
    "%matplotlib inline\n",
    "sns.set(style=\"whitegrid\")\n",
    "\n",
    "data = pd.read_csv('schedule_v003.csv', low_memory=False)\n",
    "\n",
    "# Convert booking from string into a datatime.\n",
    "data['Booking'] = pd.to_datetime(data['Booking'], format='%Y-%m-%d %H:%M:%S')\n",
    "\n",
    "# This is used later on. \n",
    "day_names = ['Sunday', 'Monday', 'Tuesday', 'Wednesday', 'Thursday', 'Friday', 'Saturday']\n",
    "\n",
    "# Convert time columns into their correct datatypes.\n",
    "for column in ['Arrived', 'Started', 'Completed']:\n",
    "    data[column] = pd.to_datetime(data[column], format='%H:%M:%S').dt.time\n",
    "\n",
    "data.head()"
   ]
  },
  {
   "cell_type": "code",
   "execution_count": 2,
   "metadata": {},
   "outputs": [    
   ],
   "source": [
    "# Show how frequently each location is used\n",
    "keys = data['LocationName'].value_counts().keys().tolist()\n",
    "values = data['LocationName'].value_counts().tolist()\n",
    "counts = pd.DataFrame([(row[0].strip(), row[1]) for row in zip(keys, values)])\n",
    "counts.columns=['LocationName', 'Count']\n",
    "\n",
    "fig, ax = plt.subplots(figsize=(30, 20))\n",
    "sns.barplot(ax=ax, x='LocationName', y='Count', data=counts).set_title('Location Counts')\n",
    "fig.savefig('charts/location_counts.png')"
   ]
  },
  {
   "cell_type": "code",
   "execution_count": 3,
   "metadata": {},
   "outputs": [
   ],
   "source": [
    "# Show how frequent each activity is\n",
    "keys = data['Activity'].value_counts().keys().tolist()\n",
    "values = data['Activity'].value_counts().tolist()\n",
    "counts = pd.DataFrame([(row[0].strip(), row[1]) for row in zip(keys, values)])\n",
    "counts.columns=['Activity', 'Count']\n",
    "\n",
    "fig, ax = plt.subplots(figsize=(100, 20))\n",
    "sns.barplot(ax=ax, x='Activity', y='Count', data=counts).set_title('Activity Counts')\n",
    "fig.savefig('charts/activity_counts.png')\n",
    "counts.describe()"
   ]
  },
  {
   "cell_type": "code",
   "execution_count": 4,
   "metadata": {},
   "outputs": [
   ],
   "source": [
    "keys = data['DepartmentName'].value_counts().keys().tolist()\n",
    "values = data['DepartmentName'].value_counts().tolist()\n",
    "counts = pd.DataFrame([(row[0].strip(), row[1]) for row in zip(keys, values)])\n",
    "counts.columns=['DepartmentName', 'Count']\n",
    "\n",
    "fig, ax = plt.subplots(figsize=(15, 15))\n",
    "sns.barplot(x='DepartmentName', y='Count', data=counts).set_title('Department Counts')\n",
    "fig.savefig('charts/department_counts.png')\n",
    "counts.describe()"
   ]
  },
  {
   "cell_type": "code",
   "execution_count": 5,
   "metadata": {},
   "outputs": [],
   "source": [
    "import sqlite3\n",
    "\n",
    "#Set up the database\n",
    "db = sqlite3.connect('sql/gcpace.sqlite3')\n",
    "cur = db.cursor()"
   ]
  },
  {
   "cell_type": "code",
   "execution_count": 6,
   "metadata": {},
   "outputs": [
   ],
   "source": [
    "cur.execute(\"SELECT ROUND(waiting_time / 5) * 5 AS C FROM bookings WHERE waiting_time > 0 AND started > arrived\")\n",
    "frame = pd.DataFrame([int(x[0]) for x in cur.fetchall()])\n",
    "frame.columns = ['WaitingTimes']\n",
    "\n",
    "keys = frame['WaitingTimes'].value_counts().keys().tolist()\n",
    "values = frame['WaitingTimes'].value_counts().tolist()\n",
    "counts = pd.DataFrame([(row[0], row[1]) for row in zip(keys, values)])\n",
    "counts.columns=['WaitingTimes', 'Count']\n",
    "\n",
    "# There are a number of extreme outliers in this DataFrame. Remove all points that are not within 3 standard deviations\n",
    "quantile = counts[\"Count\"].quantile(0.997)\n",
    "counts = counts[counts[\"Count\"] < quantile]\n",
    "\n",
    "fig, ax = plt.subplots(figsize=(20, 15))\n",
    "sns.barplot(x='WaitingTimes', y='Count', data=counts).set_title('Waiting Time Counts')\n",
    "fig.savefig('charts/waiting_time_counts.png')"
   ]
  },
  {
   "cell_type": "code",
   "execution_count": 7,
   "metadata": {},
   "outputs": [
   ],
   "source": [
    "cur.execute(\"SELECT ROUND(treatment_time / 5) * 5 AS C FROM bookings WHERE treatment_time > 0 AND completed > started\")\n",
    "frame = pd.DataFrame([int(x[0]) for x in cur.fetchall()])\n",
    "frame.columns = ['TreatmentTimes']\n",
    "\n",
    "keys = frame['TreatmentTimes'].value_counts().keys().tolist()\n",
    "values = frame['TreatmentTimes'].value_counts().tolist()\n",
    "counts = pd.DataFrame([(row[0], row[1]) for row in zip(keys, values)])\n",
    "counts.columns=['TreatmentTimes', 'Count']\n",
    "\n",
    "# There are a number of extreme outliers in this DataFrame. Remove all points that are not within 3 standard deviations\n",
    "quantile = counts[\"Count\"].quantile(0.997)\n",
    "counts = counts[counts[\"Count\"] < quantile]\n",
    "\n",
    "fig, ax = plt.subplots(figsize=(20, 15))\n",
    "sns.barplot(x='TreatmentTimes', y='Count', data=counts).set_title('Treatment Time Counts')\n",
    "fig.savefig('charts/treatment_time_counts.png')"
   ]
  },
  {
   "cell_type": "code",
   "execution_count": 10,
   "metadata": {},
   "outputs": [
   ],
   "source": [
    "cur.execute(\"SELECT id, code FROM activities ORDER BY id ASC\")\n",
    "activities = [(x[0], x[1].strip()) for x in cur.fetchall()]\n",
    "\n",
    "data = []\n",
    "for activity in activities:\n",
    "    cur.execute(\n",
    "        \"SELECT ROUND(treatment_time / 5) * 5 AS C FROM bookings \"\n",
    "        \"WHERE treatment_time > 0 AND completed > started and activity_id=?\", [activity[0]]\n",
    "    )\n",
    "    \n",
    "    for row in cur.fetchall():\n",
    "        data.append([activity[1], int(row[0])])\n",
    "    \n",
    "frame = pd.DataFrame(data, columns=['activity', 'time'])\n",
    "\n",
    "# There are a number of extreme outliers in this DataFrame. Remove all points that are not within 3 standard deviations\n",
    "quantile = frame[\"time\"].quantile(0.997)\n",
    "frame = frame[frame[\"time\"] < quantile]\n",
    "\n",
    "fig, ax = plt.subplots(figsize=(30, 20))\n",
    "sns.boxplot(ax=ax, x='time', y='activity', data=frame).set_title('Treatment Times By Activity')\n",
    "fig.savefig('charts/activity_treatment_counts.png')"
   ]
  },
  {
   "cell_type": "code",
   "execution_count": 11,
   "metadata": {},
   "outputs": [
   ],
   "source": [
    "# Get all bookings and arrange by day of the week & booking time (hours).\n",
    "\n",
    "cur.execute(\"\"\"\n",
    "    SELECT locations.name, cast (strftime('%w', booking_datetime) as integer) AS DWEEK, COUNT(bookings.schedule_id) AS C FROM bookings \n",
    "    INNER JOIN locations ON locations.id = bookings.location_id \n",
    "    GROUP BY locations.name, DWEEK\n",
    "    ORDER BY name, DWEEK\n",
    "\"\"\")\n",
    "\n",
    "rows = [(x[0].strip(), day_names[x[1]], x[2]) for x in cur.fetchall()]\n",
    "frame = pd.DataFrame(rows)\n",
    "frame.columns = ['MachineName', 'DayOfWeek', 'Count']\n",
    "\n",
    "pivot = frame.pivot(index='MachineName', columns='DayOfWeek', values='Count')\n",
    "# Reindex to order column names in correct ordering.\n",
    "pivot = pivot.reindex(['Monday', 'Tuesday', 'Wednesday', 'Thursday', 'Friday', 'Saturday'], axis=1)\n",
    "\n",
    "fig, ax = plt.subplots(figsize=(15, 15))\n",
    "sns.heatmap(pivot, ax=ax).set_title('Machine Utilisation By Day')\n",
    "fig.savefig('charts/machine_utilisation_heatmap.png')"
   ]
  },
  {
   "cell_type": "code",
   "execution_count": 12,
   "metadata": {},
   "outputs": [
   ],
   "source": [
    "# Get all bookings and arrange by day of the week & booking time (hours).\n",
    "\n",
    "cur.execute(\"\"\"\n",
    "    SELECT cast (strftime('%w', booking_datetime) as integer) AS DID, strftime('%H', booking_datetime) AS DHOUR, COUNT(*) FROM bookings\n",
    "    GROUP BY DID, DHOUR\n",
    "    ORDER BY DID, DHOUR ASC\n",
    "\"\"\")\n",
    "\n",
    "rows = [(day_names[x[0]], x[1], x[2]) for x in cur.fetchall()]\n",
    "frame = pd.DataFrame(rows)\n",
    "frame.columns = ['DayName', 'Hour', 'Count']\n",
    "\n",
    "order = ['Monday', 'Tuesday', 'Wednesday','Thursday','Friday','Saturday','Sunday']\n",
    "pivot = frame.pivot(index='DayName', columns='Hour', values='Count').reindex(order)\n",
    "fig, ax = plt.subplots(figsize=(15, 15))\n",
    "sns.heatmap(pivot, ax=ax).set_title('Bookings Per Hour')\n",
    "fig.savefig('charts/booking_heatmap.png')"
   ]
  },
  {
   "cell_type": "code",
   "execution_count": 13,
   "metadata": {},
   "outputs": [],
   "source": [
    "cur.execute(\"\"\"\n",
    "    SELECT cast (strftime('%w', booking_datetime) as integer) AS DOW, ROUND(delay_time / 5) * 5 AS DTIME, COUNT(*) FROM bookings\n",
    "    GROUP BY DOW, DTIME\n",
    "    ORDER BY DOW ASC, DTIME DESC\n",
    "\"\"\")\n",
    "\n",
    "rows = [(day_names[x[0]], x[1], x[2]) for x in cur.fetchall()]\n",
    "\n",
    "frame = pd.DataFrame(rows)\n",
    "frame.columns = ['DayName', 'DelayTime', 'Count']\n",
    "    \n",
    "# There are a number of extreme outliers in this DataFrame. Remove all points that are not within 3 standard deviations\n",
    "quantile = frame[\"Count\"].quantile(0.997)\n",
    "frame = frame[frame[\"Count\"] < quantile]\n",
    "\n",
    "for day in ['Monday', 'Tuesday', 'Wednesday', 'Thursday', 'Friday', 'Saturday']:\n",
    "    fig, ax = plt.subplots(figsize=(75, 15))\n",
    "    sns.barplot(x='DelayTime', y='Count', data=frame.loc[frame['DayName'] == day]).set_title('Delay Time For ' + day)\n",
    "    fig.savefig('charts/{}_delay_time.png'.format(day))\n",
    "    plt.close(fig)"
   ]
  },
  {
   "cell_type": "code",
   "execution_count": 14,
   "metadata": {},
   "outputs": [
   ],
   "source": [
    "cur.execute(\"\"\"\n",
    "    SELECT patient_id, count(*) FROM bookings\n",
    "    GROUP BY patient_id\n",
    "\"\"\")\n",
    "\n",
    "rows = [x[1] for x in cur.fetchall()]\n",
    "\n",
    "frame = pd.DataFrame(rows)\n",
    "frame.columns = ['Count']\n",
    "\n",
    "fig, ax = plt.subplots(figsize=(10, 10))\n",
    "sns.boxplot(x='Count', data=frame).set_title('Patient Treatment Counts')\n",
    "fig.savefig('charts/patient_treatment_count.png')"
   ]
  },
  {
   "cell_type": "code",
   "execution_count": 15,
   "metadata": {},
   "outputs": [],
   "source": [
    "# Calculate how the percent change between each treatment times group by patient.\n",
    "cur.execute(\"\"\"SELECT patient_id, treatment_time, booking_datetime, code FROM bookings\n",
    "    INNER JOIN activities ON activity_id = activities.id\n",
    "    WHERE treatment_time > 0\n",
    "    ORDER BY patient_id, booking_datetime\"\"\")\n",
    "\n",
    "current_patient = None\n",
    "first_treatment = None\n",
    "num_treatment = None\n",
    "\n",
    "data = []\n",
    "for row in cur.fetchall():\n",
    "    if current_patient != row[0]:\n",
    "        current_patient = row[0]\n",
    "        first_treatment = row[1]\n",
    "        current_treatment = 1\n",
    "        continue\n",
    "    \n",
    "    difference = row[1] - first_treatment\n",
    "    percent = (difference / first_treatment) * 100\n",
    "    data.append([row[3], current_treatment, percent])\n",
    "    current_treatment += 1\n",
    "\n",
    "frame = pd.DataFrame(data, columns=['Activity', 'TreatmentNumber', 'TimeDifference'])\n",
    "\n",
    "# There are a number of extreme outliers in this DataFrame. Remove all points that are not within 3 standard deviations\n",
    "quantile = frame[\"TimeDifference\"].quantile(0.997)\n",
    "frame = frame[frame[\"TimeDifference\"] < quantile]\n",
    "\n",
    "for activity in frame['Activity'].unique():\n",
    "    fig, ax = plt.subplots(figsize=(45, 45))\n",
    "    sns.stripplot(x='TreatmentNumber', y='TimeDifference', data=frame[frame['Activity'] == activity], dodge=False, jitter=False, palette='Set2')\n",
    "    fig.savefig('charts/treatment_time_differences/{}.png'.format(activity))\n",
    "    plt.close(fig)"
   ]
  },
  {
   "cell_type": "code",
   "execution_count": 16,
   "metadata": {},
   "outputs": [
   ],
   "source": [
    "\n",
    "from datetime import datetime\n",
    "from math import floor\n",
    "\n",
    "def getTimeDifference(dt1, dt2):\n",
    "    if dt2 < dt1:\n",
    "        return -getTimeDifference(dt2, dt1)\n",
    "\n",
    "    delta = dt2 - dt1\n",
    "    # Round down and remove any decimal places. We only care about whole minutes\n",
    "    return int(floor(delta.seconds / 60))\n",
    "\n",
    "cur.execute(\"\"\"\n",
    "SELECT strftime('%Y-%m-%d', booking_datetime), location_id, department_id, started, completed, activity_id, locations.name FROM bookings\n",
    "INNER JOIN locations ON location_id = locations.id\n",
    "ORDER BY department_id, location_id\n",
    "\"\"\")\n",
    "\n",
    "rows = cur.fetchall()\n",
    "previous = rows[0]\n",
    "\n",
    "results = []\n",
    "for row in rows[1:]:\n",
    "    # Skip to the next entry on change of day or change of location\n",
    "    if row[1] != previous[1] or row[0] != previous[0]:\n",
    "        previous = row\n",
    "        continue\n",
    "    \n",
    "    completed = datetime.strptime(previous[4], '%H:%M:%S')\n",
    "    start = datetime.strptime(row[3], '%H:%M:%S')\n",
    "    \n",
    "    minutes = getTimeDifference(start, completed)\n",
    "    results.append(tuple([row[6], minutes, row[5] == previous[5]]))\n",
    "    previous = row\n",
    "    \n",
    "frame = pd.DataFrame(results, columns=['Location', 'Delta', 'SameActivity'])\n",
    "\n",
    "# There are a number of extreme outliers in this DataFrame. Remove all points that are not within 3 standard deviations\n",
    "quantile = frame[\"Delta\"].quantile(0.997)\n",
    "frame = frame[frame[\"Delta\"] < quantile]\n",
    "\n",
    "fig, ax = plt.subplots(figsize=(30, 30))\n",
    "sns.stripplot(x='Location', y='Delta', hue='SameActivity', \n",
    "              data=frame, jitter=True, palette='Set2', dodge=True)\n",
    "\n",
    "fig.savefig('charts/machine_booking_between_time.png')"
   ]
  },
  {
   "cell_type": "code",
   "execution_count": 29,
   "metadata": {},
   "outputs": [
   ],
   "source": [
    "cur.execute(\"\"\"\n",
    "SELECT bookings.treatment_time, prediction, activities.code FROM bookings\n",
    "INNER JOIN activities ON activity_id = activities.id\n",
    "INNER JOIN booking_gc_predict ON bookings.schedule_id = booking_gc_predict.schedule_id\n",
    "WHERE bookings.treatment_time > 0\n",
    "\"\"\")\n",
    "\n",
    "result = [((x[0] - x[1]), x[2]) for x in cur.fetchall()]\n",
    "df = pd.DataFrame(result, columns=['Difference', 'Activity'])\n",
    "\n",
    "fig, ax = plt.subplots(figsize=(100, 30))\n",
    "sns.boxenplot(x='Activity', y='Difference', data=df, ax=ax)\n",
    "fig.savefig('charts/gc_predictions_vs_reality.png')"
   ]
  },
  {
   "cell_type": "code",
   "execution_count": null,
   "metadata": {},
   "outputs": [],
   "source": []
  }
 ],
 "metadata": {
  "kernelspec": {
   "display_name": "Python 3",
   "language": "python",
   "name": "python3"
  },
  "language_info": {
   "codemirror_mode": {
    "name": "ipython",
    "version": 3
   },
   "file_extension": ".py",
   "mimetype": "text/x-python",
   "name": "python",
   "nbconvert_exporter": "python",
   "pygments_lexer": "ipython3",
   "version": "3.6.6"
  }
 },
 "nbformat": 4,
 "nbformat_minor": 2
}
